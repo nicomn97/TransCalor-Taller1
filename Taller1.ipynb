{
 "cells": [
  {
   "cell_type": "code",
   "execution_count": 1,
   "metadata": {},
   "outputs": [],
   "source": [
    "import numpy as np\n",
    "import matplotlib.pyplot as plt"
   ]
  },
  {
   "cell_type": "markdown",
   "metadata": {},
   "source": [
    "# Ejercicio 1 - Sin Camisa"
   ]
  },
  {
   "cell_type": "code",
   "execution_count": 2,
   "metadata": {},
   "outputs": [],
   "source": [
    "n=8\n",
    "dl=0.025/n\n",
    "x0=0.4\n",
    "y0=0.3\n",
    "nx=int(np.rint(1+x0/(dl)))\n",
    "ny=int(np.rint(1+y0/(dl)))\n",
    "x=np.linspace(0,x0,nx)\n",
    "y=np.linspace(0,y0,ny)\n",
    "xx,yy=np.meshgrid(x,y)\n",
    "Mx=np.array([xx,yy])"
   ]
  },
  {
   "cell_type": "code",
   "execution_count": 3,
   "metadata": {},
   "outputs": [],
   "source": [
    "h=500.0\n",
    "k=2.0\n",
    "wp=50000\n",
    "T1=20.0\n",
    "c1=-wp*dl*dl/k\n",
    "c2=h*dl/k"
   ]
  },
  {
   "cell_type": "code",
   "execution_count": 4,
   "metadata": {},
   "outputs": [],
   "source": [
    "Vsol=np.zeros(nx*ny)\n",
    "mat=np.zeros((nx*ny,nx*ny))\n",
    "ge=np.zeros((ny,nx))"
   ]
  },
  {
   "cell_type": "code",
   "execution_count": 5,
   "metadata": {},
   "outputs": [],
   "source": [
    "ge[0,:]=1\n",
    "ge[ny-1,:]=2\n",
    "ge[:,0]=3\n",
    "ge[:,nx-1]=4\n",
    "ge[(xx>=0.125)&(xx<=0.35)&(yy>=0.05)&(yy<=0.175)]=5\n",
    "ge[0,0]=6\n",
    "ge[ny-1,0]=7\n",
    "ge[0,nx-1]=8\n",
    "ge[ny-1,nx-1]=9"
   ]
  },
  {
   "cell_type": "code",
   "execution_count": 6,
   "metadata": {},
   "outputs": [],
   "source": [
    "for i in range(nx):\n",
    "    for j in range(ny):\n",
    "        ind=j*nx+i\n",
    "        if(ge[j,i]==0):\n",
    "            mat[ind,ind]=-4\n",
    "            mat[ind,ind-1]=mat[ind,ind+1]=mat[ind,ind+nx]=mat[ind,ind-nx]=1\n",
    "        elif(ge[j,i]==5):\n",
    "            mat[ind,ind]=-4\n",
    "            mat[ind,ind-1]=mat[ind,ind+1]=mat[ind,ind+nx]=mat[ind,ind-nx]=1\n",
    "            Vsol[ind]=c1\n",
    "        elif(ge[j,i]==1):\n",
    "            mat[ind,ind]=-4\n",
    "            mat[ind,ind-1]=mat[ind,ind+1]=1\n",
    "            mat[ind,ind+nx]=2\n",
    "        elif(ge[j,i]==3):\n",
    "            mat[ind,ind]=-4\n",
    "            mat[ind,ind-nx]=mat[ind,ind+nx]=1\n",
    "            mat[ind,ind+1]=2\n",
    "        elif(ge[j,i]==4):\n",
    "            mat[ind,ind]=-4\n",
    "            mat[ind,ind-nx]=mat[ind,ind+nx]=1\n",
    "            mat[ind,ind-1]=2\n",
    "        elif(ge[j,i]==2):\n",
    "            mat[ind,ind]=-2*(c2+2)\n",
    "            mat[ind,ind-1]=mat[ind,ind+1]=1\n",
    "            mat[ind,ind-nx]=2\n",
    "            Vsol[ind]=-2*c2*T1\n",
    "        elif(ge[j,i]==6):\n",
    "            mat[ind,ind]=-2\n",
    "            mat[ind,ind+1]=mat[ind,ind+nx]=1\n",
    "        elif(ge[j,i]==8):\n",
    "            mat[ind,ind]=-2\n",
    "            mat[ind,ind-1]=mat[ind,ind+nx]=1\n",
    "        elif(ge[j,i]==7):\n",
    "            mat[ind,ind]=-2*(c2+1)\n",
    "            mat[ind,ind+1]=mat[ind,ind-nx]=1\n",
    "            Vsol[ind]=-2*c2*T1\n",
    "        elif(ge[j,i]==9):\n",
    "            mat[ind,ind]=-2*(c2+1)\n",
    "            mat[ind,ind-1]=mat[ind,ind-nx]=1\n",
    "            Vsol[ind]=-2*c2*T1"
   ]
  },
  {
   "cell_type": "code",
   "execution_count": 7,
   "metadata": {},
   "outputs": [
    {
     "name": "stdout",
     "output_type": "stream",
     "text": [
      "24.118513297118835 395.5259472221393\n"
     ]
    }
   ],
   "source": [
    "T=np.linalg.solve(mat,Vsol)\n",
    "Tm = T.reshape((ny, nx))\n",
    "print(np.min(Tm),np.max(Tm))"
   ]
  },
  {
   "cell_type": "code",
   "execution_count": 8,
   "metadata": {},
   "outputs": [
    {
     "data": {
      "image/png": "[encoded data removed]",
      "text/plain": [
       "<Figure size 432x288 with 2 Axes>"
      ]
     },
     "metadata": {
      "needs_background": "light"
     },
     "output_type": "display_data"
    }
   ],
   "source": [
    "plt.contourf(xx, yy, Tm, 100)\n",
    "plt.plot([0.125,0.35],[0.05,0.05],\"--\",c=\"r\")\n",
    "plt.plot([0.125,0.35],[0.175,0.175],\"--\",c=\"r\")\n",
    "plt.plot([0.125,0.125],[0.05,0.175],\"--\",c=\"r\")\n",
    "plt.plot([0.35,0.35],[0.05,0.175],\"--\",c=\"r\",label=\"Núcleo\")\n",
    "plt.title(f\"Sin Camisa, $T_m=$ {np.max(Tm):.2f}$^o C $\")\n",
    "plt.legend(loc=(0.36,-0.22))\n",
    "plt.colorbar();\n",
    "plt.savefig(\"sinCamisa\",bbox_inches=\"tight\")"
   ]
  },
  {
   "cell_type": "code",
   "execution_count": null,
   "metadata": {},
   "outputs": [],
   "source": []
  },
  {
   "cell_type": "code",
   "execution_count": null,
   "metadata": {},
   "outputs": [],
   "source": []
  },
  {
   "cell_type": "code",
   "execution_count": null,
   "metadata": {},
   "outputs": [],
   "source": []
  },
  {
   "cell_type": "markdown",
   "metadata": {},
   "source": [
    "# Punto 2 - Con Camisa"
   ]
  },
  {
   "cell_type": "code",
   "execution_count": 9,
   "metadata": {},
   "outputs": [],
   "source": [
    "n=8\n",
    "dl=0.025/n\n",
    "x0=0.4\n",
    "y0=0.3\n",
    "nx=int(np.rint(1+x0/(dl)))\n",
    "ny=int(np.rint(1+y0/(dl)))\n",
    "x=np.linspace(0,x0,nx)\n",
    "y=np.linspace(0,y0,ny)\n",
    "xx,yy=np.meshgrid(x,y)\n",
    "Mx=np.array([xx,yy])"
   ]
  },
  {
   "cell_type": "code",
   "execution_count": 10,
   "metadata": {},
   "outputs": [],
   "source": [
    "h=500.0\n",
    "k=2.0\n",
    "h2=1000.0\n",
    "wp=50000.0\n",
    "T1=20.0\n",
    "T2=50.0\n",
    "c1=-wp*dl*dl/k\n",
    "c2=h*dl/k\n",
    "c22=h2*dl/k"
   ]
  },
  {
   "cell_type": "code",
   "execution_count": 11,
   "metadata": {},
   "outputs": [],
   "source": [
    "Vsol=np.zeros(nx*ny)\n",
    "mat=np.zeros((nx*ny,nx*ny))\n",
    "ge=np.zeros((ny,nx))"
   ]
  },
  {
   "cell_type": "code",
   "execution_count": 12,
   "metadata": {},
   "outputs": [],
   "source": [
    "ge[0,:]=1\n",
    "ge[ny-1,:]=2\n",
    "ge[:,0]=3\n",
    "ge[:,nx-1]=4\n",
    "ge[(xx>=0.125)&(xx<=0.35)&(yy>=0.05)&(yy<=0.175)]=5\n",
    "ge[0,0]=6\n",
    "ge[ny-1,0]=7\n",
    "ge[0,nx-1]=8\n",
    "ge[ny-1,nx-1]=9\n",
    "ge[(xx>=0.05)&(xx<=0.075)&(yy==0.05)]=10\n",
    "ge[(xx>=0.075)&(xx<=0.325)&(yy==0.225)]=10\n",
    "ge[(xx>=0.05)&(xx<=0.325)&(yy==0.25)]=11\n",
    "ge[(xx==0.075)&(yy>=0.05)&(yy<=0.225)]=12\n",
    "ge[(xx==0.325)&(yy>=0.225)&(yy<=0.25)]=12\n",
    "ge[(xx==0.05)&(yy>=0.05)&(yy<=0.25)]=13\n",
    "ge[(xx==0.075)&(yy==0.05)]=14\n",
    "ge[(xx==0.325)&(yy==0.225)]=14\n",
    "ge[(xx==0.05)&(yy==0.05)]=15\n",
    "ge[(xx==0.05)&(yy==0.25)]=16\n",
    "ge[(xx==0.325)&(yy==0.25)]=17\n",
    "ge[(xx==0.075)&(yy==0.225)]=18\n",
    "ge[(xx>0.05)&(xx<0.075)&(yy>0.05)&(yy<0.025)]=19\n",
    "ge[(xx>0.05)&(xx<0.325)&(yy>0.225)&(yy<0.25)]=19"
   ]
  },
  {
   "cell_type": "code",
   "execution_count": 13,
   "metadata": {},
   "outputs": [],
   "source": [
    "for i in range(nx):\n",
    "    for j in range(ny):\n",
    "        ind=j*nx+i\n",
    "        if(ge[j,i]==0):\n",
    "            mat[ind,ind]=-4\n",
    "            mat[ind,ind-1]=mat[ind,ind+1]=mat[ind,ind+nx]=mat[ind,ind-nx]=1\n",
    "        elif(ge[j,i]==5):\n",
    "            mat[ind,ind]=-4\n",
    "            mat[ind,ind-1]=mat[ind,ind+1]=mat[ind,ind+nx]=mat[ind,ind-nx]=1\n",
    "            Vsol[ind]=c1\n",
    "        elif(ge[j,i]==1):\n",
    "            mat[ind,ind]=-4\n",
    "            mat[ind,ind-1]=mat[ind,ind+1]=1\n",
    "            mat[ind,ind+nx]=2\n",
    "        elif(ge[j,i]==3):\n",
    "            mat[ind,ind]=-4\n",
    "            mat[ind,ind-nx]=mat[ind,ind+nx]=1\n",
    "            mat[ind,ind+1]=2\n",
    "        elif(ge[j,i]==4):\n",
    "            mat[ind,ind]=-4\n",
    "            mat[ind,ind-nx]=mat[ind,ind+nx]=1\n",
    "            mat[ind,ind-1]=2\n",
    "        elif(ge[j,i]==2):\n",
    "            mat[ind,ind]=-2*(c2+2)\n",
    "            mat[ind,ind-1]=mat[ind,ind+1]=1\n",
    "            mat[ind,ind-nx]=2\n",
    "            Vsol[ind]=-2*c2*T1\n",
    "        elif(ge[j,i]==6):\n",
    "            mat[ind,ind]=-2\n",
    "            mat[ind,ind+1]=mat[ind,ind+nx]=1\n",
    "        elif(ge[j,i]==8):\n",
    "            mat[ind,ind]=-2\n",
    "            mat[ind,ind-1]=mat[ind,ind+nx]=1\n",
    "        elif(ge[j,i]==7):\n",
    "            mat[ind,ind]=-2*(c2+1)\n",
    "            mat[ind,ind+1]=mat[ind,ind-nx]=1\n",
    "            Vsol[ind]=-2*c2*T1\n",
    "        elif(ge[j,i]==9):\n",
    "            mat[ind,ind]=-2*(c2+1)\n",
    "            mat[ind,ind-1]=mat[ind,ind-nx]=1\n",
    "            Vsol[ind]=-2*c2*T1\n",
    "        elif(ge[j,i]==10):\n",
    "            mat[ind,ind]=-2*(c22+2)\n",
    "            mat[ind,ind-1]=mat[ind,ind+1]=1\n",
    "            mat[ind,ind-nx]=2\n",
    "            Vsol[ind]=-2*c22*T2\n",
    "        elif(ge[j,i]==11):\n",
    "            mat[ind,ind]=-2*(c22+2)\n",
    "            mat[ind,ind-1]=mat[ind,ind+1]=1\n",
    "            mat[ind,ind+nx]=2\n",
    "            Vsol[ind]=-2*c22*T2\n",
    "        elif(ge[j,i]==12):\n",
    "            mat[ind,ind]=-2*(c22+2)\n",
    "            mat[ind,ind-nx]=mat[ind,ind+nx]=1\n",
    "            mat[ind,ind+1]=2\n",
    "            Vsol[ind]=-2*c22*T2\n",
    "        elif(ge[j,i]==13):\n",
    "            mat[ind,ind]=-2*(c22+2)\n",
    "            mat[ind,ind-nx]=mat[ind,ind+nx]=1\n",
    "            mat[ind,ind-1]=2\n",
    "            Vsol[ind]=-2*c22*T2\n",
    "        elif(ge[j,i]==14):\n",
    "            mat[ind,ind]=-2*(c22+3)\n",
    "            mat[ind,ind-nx]=mat[ind,ind+1]=2\n",
    "            mat[ind,ind+nx]=mat[ind,ind-1]=1\n",
    "            Vsol[ind]=-2*c22*T2\n",
    "        elif(ge[j,i]==15):\n",
    "            mat[ind,ind]=-2*(c22+3)\n",
    "            mat[ind,ind-nx]=mat[ind,ind-1]=2\n",
    "            mat[ind,ind+nx]=mat[ind,ind+1]=1\n",
    "            Vsol[ind]=-2*c22*T2\n",
    "        elif(ge[j,i]==16):\n",
    "            mat[ind,ind]=-2*(c22+3)\n",
    "            mat[ind,ind+nx]=mat[ind,ind-1]=2\n",
    "            mat[ind,ind-nx]=mat[ind,ind+1]=1\n",
    "            Vsol[ind]=-2*c22*T2\n",
    "        elif(ge[j,i]==17):\n",
    "            mat[ind,ind]=-2*(c22+3)\n",
    "            mat[ind,ind+nx]=mat[ind,ind+1]=2\n",
    "            mat[ind,ind-nx]=mat[ind,ind-1]=1\n",
    "            Vsol[ind]=-2*c22*T2\n",
    "        elif(ge[j,i]==18):\n",
    "            mat[ind,ind]=-2*(c22+1)\n",
    "            mat[ind,ind-nx]=mat[ind,ind+1]=1\n",
    "            Vsol[ind]=-2*c22*T2\n",
    "        elif(ge[j,i]==19):\n",
    "            mat[ind,ind]=1\n",
    "            Vsol[ind]=T2"
   ]
  },
  {
   "cell_type": "code",
   "execution_count": 14,
   "metadata": {},
   "outputs": [
    {
     "name": "stdout",
     "output_type": "stream",
     "text": [
      "21.15354954242867 264.35377173440423\n"
     ]
    }
   ],
   "source": [
    "T=np.linalg.solve(mat,Vsol)\n",
    "Tm = T.reshape((ny, nx))\n",
    "print(np.min(Tm),np.max(Tm))"
   ]
  },
  {
   "cell_type": "code",
   "execution_count": 15,
   "metadata": {},
   "outputs": [
    {
     "data": {
      "image/png": "[encoded data removed]",
      "text/plain": [
       "<Figure size 432x288 with 2 Axes>"
      ]
     },
     "metadata": {
      "needs_background": "light"
     },
     "output_type": "display_data"
    }
   ],
   "source": [
    "plt.contourf(xx, yy, Tm, 1000)\n",
    "plt.plot([0.125,0.35],[0.05,0.05],\"--\",c=\"r\")\n",
    "plt.plot([0.125,0.35],[0.175,0.175],\"--\",c=\"r\")\n",
    "plt.plot([0.125,0.125],[0.05,0.175],\"--\",c=\"r\",label=\"Núcleo\")\n",
    "plt.plot([0.35,0.35],[0.05,0.175],\"--\",c=\"r\")\n",
    "plt.plot([0.05,0.075],[0.05,0.05],\"--\",c=\"k\")\n",
    "plt.plot([0.075,0.325],[0.225,0.225],\"--\",c=\"k\")\n",
    "plt.plot([0.05,0.325],[0.25,0.25],\"--\",c=\"k\")\n",
    "plt.plot([0.05,0.05],[0.05,0.25],\"--\",c=\"k\")\n",
    "plt.plot([0.075,0.075],[0.05,0.225],\"--\",c=\"k\")\n",
    "plt.plot([0.325,0.325],[0.225,0.25],\"--\",c=\"k\",label=\"Camisa\")\n",
    "plt.title(f\"Con Camisa, $T_m=$ {np.max(Tm):.2f}$^o C $\")\n",
    "plt.legend(loc=(0.2,-0.22),ncol=2)\n",
    "plt.colorbar();\n",
    "plt.savefig(\"conCamisa\",bbox_inches=\"tight\")"
   ]
  },
  {
   "cell_type": "code",
   "execution_count": null,
   "metadata": {},
   "outputs": [],
   "source": []
  }
 ],
 "metadata": {
  "kernelspec": {
   "display_name": "Python 3",
   "language": "python",
   "name": "python3"
  },
  "language_info": {
   "codemirror_mode": {
    "name": "ipython",
    "version": 3
   },
   "file_extension": ".py",
   "mimetype": "text/x-python",
   "name": "python",
   "nbconvert_exporter": "python",
   "pygments_lexer": "ipython3",
   "version": "3.6.7"
  }
 },
 "nbformat": 4,
 "nbformat_minor": 2
}
